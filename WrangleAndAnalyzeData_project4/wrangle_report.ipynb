{
 "cells": [
  {
   "cell_type": "markdown",
   "metadata": {},
   "source": [
    "## Report: wrangle Report"
   ]
  },
  {
   "cell_type": "markdown",
   "metadata": {},
   "source": [
    "This report covers three phases of data wrangling \n",
    "* Gathering data \n",
    "* Assessing data\n",
    "* Cleaning data\n",
    "\n",
    "### Gathering data\n",
    "I have gathered data from different sources, which resulted in three different dataframes, as shown below:\n",
    "1. archive_df dataframe, which contains the main details of tweets, ratings, and dog stages. archive_df is built by directly downloading the WeRateDogs Twitter archive data(twitter_archive_enhanced.csv).\n",
    "2. images_df dataframe is the second tables that contian predictions details of dogs and it formed via using  the Requests library to download the tweet image prediction (image_predictions.tsv)\n",
    "3. df_tweet_extra is the third dataframe, and it contains all of the details of tweets and was obtained using the provided tweeter file instead of tweeter API. "
   ]
  },
  {
   "cell_type": "markdown",
   "metadata": {},
   "source": [
    "### Assessing and Cleaning of collected data\n",
    "There were many problems within the data that we have collected in gathering face including quality issues (Completeness, Validity, Accuracy, Consistency) and tidenss issues (tidy data need to be follow certain requirements including (Each variable forms a column, Each observation forms a row and Each type of observational unit forms a table). The following are quality and tidness issues in all of the three dataframes:\n",
    "\n",
    "#### Quality issues\n",
    "\n",
    "1. missing data in columns retweeted_status_id, retweeted_status_user_id, retweeted_status_timestamp, in_reply_to_status_id, and in_reply_to_user_id.\n",
    "2. tweet_id is an int instead of a string.\n",
    "3. timestamp, and retweeted_status_timestamp are object instead of datetime.\n",
    "4. retweeted_status_id and retweeted_status_user_id are floats instead of strings.\n",
    "\n",
    "5. abnormal values in rating_numerator and rating_denominator, as the rating_denominator should be bound to 10, while there are extreme large values in rating_numerator as well as rating_denominator. Also, rating_numerator and rating_denominator should be float.\n",
    "\n",
    "6. name column has values that are incorrect, including None, a, the, an.\n",
    "\n",
    "7. nondescriptive column headers: {text:tweet_content, name:dog_name}\n",
    "\n",
    "8. tweet_id is an int instead of a string in images_df.\n",
    "\n",
    "9. duplicated jpg_url in images_df.\n",
    "\n",
    "10. p1, p2, p3 in images_df contain underscore symbol in some of the predictions' names, for example: Labrador_retriever, Boston_bull, etc.\n",
    "\n",
    "11. Predictions names' first letter in p1, p2, and p3 sometimes appears to be lowercase letters, while in some cases, predictions names start with uppercase letters, which forms an inconsistency issue.\n",
    "\n",
    "\n",
    "#### Tidiness issues\n",
    "\n",
    "1. doge stages take four columns instead of one.\n",
    "\n",
    "2. unrequired columns\n",
    "\n",
    "3. images_df columns should be part of the archive_df dataframe.\n",
    "\n",
    "4. add a column for rating.\n",
    "\n",
    "5. df_tweet_extra columns (tweet_counts and tweet_favorit) should be part of archive_df dataframe.\n",
    "\n",
    "In the cleaning section, I handle all of these issues by defining the issue and what build-in methods we should use to fix the given problem, then I write code lines to construct the steps or ways in the defining phase, and finally I test the effectiveness of the written code for solving the problem.\n",
    "\n"
   ]
  }
 ],
 "metadata": {
  "kernelspec": {
   "display_name": "Python 3",
   "language": "python",
   "name": "python3"
  },
  "language_info": {
   "codemirror_mode": {
    "name": "ipython",
    "version": 3
   },
   "file_extension": ".py",
   "mimetype": "text/x-python",
   "name": "python",
   "nbconvert_exporter": "python",
   "pygments_lexer": "ipython3",
   "version": "3.6.3"
  }
 },
 "nbformat": 4,
 "nbformat_minor": 2
}
